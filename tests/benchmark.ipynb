{
 "cells": [
  {
   "cell_type": "code",
   "execution_count": 1,
   "id": "c3b9adda-ae9a-4925-9c29-e730f9aa1c9e",
   "metadata": {},
   "outputs": [],
   "source": [
    "# REQUIRED ARGUMENTS\n",
    "RUN_NAME = 'benchmark1'\n",
    "CONTROL_TIMEPOINT_CSV = 'timepoint_csv/timepoints.csv'\n",
    "CONTROL_FASTQ_DIR = 'fastqs'\n",
    "CONTROL_FASTQ = 'SM-1_S73'\n",
    "PAM_ORIENTATION = 'five_prime'# 'three_prime' # or 'five_prime'\n",
    "PAM_LENGTH = 4\n",
    "PAM_START = 0\n",
    "\n",
    "def reverse_complement(seq):\n",
    "    nt_complement = dict({'A':'T','C':'G','G':'C','T':'A','N':'N','_':'_','-':'-'})\n",
    "    return \"\".join([nt_complement[c] for c in seq.upper()[-1::-1]])\n",
    "    \n",
    "# ADDITIONAL ARGUMENTS (with default values entered)\n",
    "MAX_PAM_LENGTH = 4\n",
    "SPACERS = {'oLS-1874':reverse_complement('AGTCTCCTCAGCAAAACGAA').upper()}\n",
    "P5_TIMEPOINT_BARCODE_START = 0\n",
    "P7_TIMEPOINT_BARCODE_START = 0\n",
    "\n",
    "import pandas as pd\n",
    "\n",
    "timepoint_barcodes = pd.DataFrame({'timepoint': [0], 'description': ['qc-control'], 'P5_timepoint_barcode': ['GTCAGT'], 'P7_timepoint_barcode': ['GTCAGT']})\n",
    "timepoint_barcodes.set_index('timepoint', inplace=True)\n",
    "timepoint_barcodes.to_csv(CONTROL_TIMEPOINT_CSV)\n",
    "\n",
    "\"\"\"\n",
    "Argument definitions:\n",
    "\n",
    "`RUN_NAME`: Provide a name for the run (no spaces or special characters).\n",
    "\n",
    "`BARCODE_CSV`: Filepath to a CSV with the control barcode information and the following headers:\n",
    "\n",
    "|sample\t            |description|P5_sample_barcode|P7_sample_barcode|\n",
    "|:------------------|:----------|:---------------:|:---------------:|\n",
    "|unique_sample_id_01|control    |ATGC             |TCGC             |\n",
    "\n",
    "Barcodes should be provided 5' to 3' as they appear in the primer sequences that encode them. Avoid the use of special characters.\n",
    "\n",
    "`FASTQ_DIR`: Folder directory contianing fastq files.\n",
    "\n",
    "`CONTROL_FASTQ`: Abbreviated name of the fastq files for the library. Fastq names must be abbreviated as follows:\n",
    "\n",
    "|fastq complete file names       |abbreviated name|\n",
    "|:-------------------------------|:--------------:|\n",
    "|control_S1_L001_R1_001.fastq.gz |timepoint1_S1   |\n",
    "|control_S1_L001_R2_001.fastq.gz |                |\n",
    "|control_S1_L002_R1_001.fastq.gz |                |\n",
    "|control_S1_L002_R2_001.fastq.gz |                |\n",
    "|control_S1_L003_R1_001.fastq.gz |                |\n",
    "|control_S1_L003_R2_001.fastq.gz |                |\n",
    "|control_S1_L004_R1_001.fastq.gz |                |\n",
    "|control_S1_L004_R2_001.fastq.gz |                |\n",
    "\n",
    "`PAM_ORIENTATION`: Orientation of the PAM relative to the spacer (`three_prime` (Cas9) or `five_prime` (Cas12)). \n",
    "\n",
    "`PAM_LENGTH`: Number of bases to include in the PAM.\n",
    "\n",
    "`PAM_START`: Position relative to the spacer to begin defining the PAM. Enter `0` to start immediately adjacent to the spacer. \n",
    "             Many CRISPR-Cas nucleases have extended PAM preferences that may make it advantageous to consider more distal \n",
    "             positions as the \"start\" of the PAM. \n",
    "             For example, for the canonical *Staphylococcus aureus* Cas9 PAM of \"NNGRRT\", \n",
    "             it may be desirable to define `PAM_START` = 2, to consider a 4 nucleotide \"GRRT\" PAM, rather than the full 6 nucleotides.\n",
    "\n",
    "Examples for specifying the PAM sequence:\n",
    "\n",
    "Specifying the `PAM_LENGTH` and `PAM_START` arguments for an example spacer and `three_prime` PAM orientation: \n",
    "\n",
    "    5'-[SPACER][PAM]-3'    \n",
    "    5'-[SPACER]CGGTA-3'\n",
    "               01234  (PAM_START)\n",
    "Examples:\n",
    "\n",
    "|PAM_LENGTH|PAM_START|PAM sequence|\n",
    "|:--------:|:-------:|:----------:|\n",
    "|3         |0        |CGG         |\n",
    "|4         |0        |CGGT        |\n",
    "|3         |1        |GGT         |\n",
    "\n",
    "Specifying the `PAM_LENGTH` and `PAM_START` arguments for an example spacer and `five_prime` PAM orientation: \n",
    "\n",
    "    5'-[PAM][SPACER]-3'    \n",
    "    5'-CTTTA[SPACER]-3'\n",
    "       43210 (PAM_START)\n",
    "Examples:\n",
    "\n",
    "|PAM_LENGTH|PAM_START|PAM sequence|\n",
    "|:--------:|:-------:|:----------:|\n",
    "|5         |0        |CTTTA       |\n",
    "|4         |0        |TTTA        |\n",
    "|4         |1        |CTTT        |\n",
    "\n",
    "\n",
    "`CONTROL_SAMPLE`: Unique sample ID of the untreated randomized PAM library control sample.\n",
    "\n",
    "`MAX_PAM_LENGTH`: Integer. The maximum PAM length that will be considered, starting immediately adjacent to the spacer. PAMs of this length will be enumerated from fastq files. PAMs will later be truncated to the bases indicated by `PAM_START` and `PAM_LENGTH`. Default value is `8`. \n",
    "\n",
    "`SPACERS`: Dictionary with key = spacer name, value = spacer sequence. Default spacers: `{'SPACER1':'GGGCACGGGCAGCTTGCCGG', 'SPACER2':'GTCGCCCTCGAACTTCACCT'}`\n",
    "           \n",
    "`P5_SAMPLE_BARCODE_START`: Integer, location of the 5' end of the P5 sample barcode. Default = `2`.\n",
    "        \n",
    "`P7_SAMPLE_BARCODE_START`: Integer, location of the 5' end of the P7 sample barcode. Default = `2`.\n",
    "\n",
    "Example P5 and P7 barcodes in an example amplicon for a 3' PAM library below. Barcodes are the capitalized \"NNNN\" sequences, read from 5' to 3' on their respective strands:\n",
    "\n",
    "                 P7 BARCODE                                                \n",
    "    POSITION:  012\n",
    "            5' --NNNN-----------------[SPACER][PAM]-----------------nnnn-- 3'\n",
    "            3' --nnnn-----------------[SPACER][PAM]-----------------NNNN-- 5'\n",
    "                                                        POSITION:      210\n",
    "                                                                    P5 BARCODE\n",
    "\"\"\"\n",
    "pass"
   ]
  },
  {
   "cell_type": "code",
   "execution_count": 2,
   "id": "fc2aeb9c-9435-4a6c-bb43-0a56d5eed62e",
   "metadata": {},
   "outputs": [
    {
     "data": {
      "text/html": [
       "<div>\n",
       "<style scoped>\n",
       "    .dataframe tbody tr th:only-of-type {\n",
       "        vertical-align: middle;\n",
       "    }\n",
       "\n",
       "    .dataframe tbody tr th {\n",
       "        vertical-align: top;\n",
       "    }\n",
       "\n",
       "    .dataframe thead th {\n",
       "        text-align: right;\n",
       "    }\n",
       "</style>\n",
       "<table border=\"1\" class=\"dataframe\">\n",
       "  <thead>\n",
       "    <tr style=\"text-align: right;\">\n",
       "      <th></th>\n",
       "      <th>description</th>\n",
       "      <th>P5_timepoint_barcode</th>\n",
       "      <th>P7_timepoint_barcode</th>\n",
       "    </tr>\n",
       "    <tr>\n",
       "      <th>timepoint</th>\n",
       "      <th></th>\n",
       "      <th></th>\n",
       "      <th></th>\n",
       "    </tr>\n",
       "  </thead>\n",
       "  <tbody>\n",
       "    <tr>\n",
       "      <th>0</th>\n",
       "      <td>qc-control</td>\n",
       "      <td>GTCAGT</td>\n",
       "      <td>GTCAGT</td>\n",
       "    </tr>\n",
       "  </tbody>\n",
       "</table>\n",
       "</div>"
      ],
      "text/plain": [
       "          description P5_timepoint_barcode P7_timepoint_barcode\n",
       "timepoint                                                      \n",
       "0          qc-control               GTCAGT               GTCAGT"
      ]
     },
     "execution_count": 2,
     "metadata": {},
     "output_type": "execute_result"
    }
   ],
   "source": [
    "timepoint_barcodes"
   ]
  },
  {
   "cell_type": "code",
   "execution_count": 7,
   "id": "b99dc614-7cc5-4db1-8129-c690e4e8b35e",
   "metadata": {
    "scrolled": true
   },
   "outputs": [
    {
     "name": "stdout",
     "output_type": "stream",
     "text": [
      "The autoreload extension is already loaded. To reload it, use:\n",
      "  %reload_ext autoreload\n",
      "Begin library QC\n",
      "/home/alex/eth/spcas9/pamda/tests\n",
      "['fastqs/ctrl/SM-1_S73_L001_R1_001.fastq.gz']\n",
      "Not using timepoints\n"
     ]
    },
    {
     "data": {
      "application/vnd.jupyter.widget-view+json": {
       "model_id": "2c0278134fee40d098a1f54182829de8",
       "version_major": 2,
       "version_minor": 0
      },
      "text/plain": [
       "  0%|          | 0/1 [00:00<?, ?it/s]"
      ]
     },
     "metadata": {},
     "output_type": "display_data"
    },
    {
     "name": "stdout",
     "output_type": "stream",
     "text": [
      "79.61% of reads mapped from SM-1_S73 (22326 reads)\n",
      "Total Reads: 28043, Wrong Spacer: 5717, Wrong Barcode: 0, Unknown Timeppoint: 0\n",
      "ctrl {'oLS-1874': {'AAAA': [99], 'AAAT': [58], 'AAAC': [115], 'AAAG': [95], 'AATA': [58], 'AATT': [43], 'AATC': [88], 'AATG': [89], 'AACA': [136], 'AACT': [91], 'AACC': [141], 'AACG': [113], 'AAGA': [99], 'AAGT': [63], 'AAGC': [116], 'AAGG': [76], 'ATAA': [90], 'ATAT': [72], 'ATAC': [96], 'ATAG': [101], 'ATTA': [65], 'ATTT': [44], 'ATTC': [69], 'ATTG': [67], 'ATCA': [100], 'ATCT': [49], 'ATCC': [121], 'ATCG': [96], 'ATGA': [94], 'ATGT': [68], 'ATGC': [101], 'ATGG': [52], 'ACAA': [163], 'ACAT': [107], 'ACAC': [168], 'ACAG': [126], 'ACTA': [122], 'ACTT': [59], 'ACTC': [136], 'ACTG': [117], 'ACCA': [186], 'ACCT': [98], 'ACCC': [198], 'ACCG': [135], 'ACGA': [100], 'ACGT': [63], 'ACGC': [156], 'ACGG': [96], 'AGAA': [74], 'AGAT': [59], 'AGAC': [88], 'AGAG': [85], 'AGTA': [55], 'AGTT': [43], 'AGTC': [66], 'AGTG': [93], 'AGCA': [124], 'AGCT': [70], 'AGCC': [107], 'AGCG': [119], 'AGGA': [61], 'AGGT': [40], 'AGGC': [91], 'AGGG': [78], 'TAAA': [99], 'TAAT': [44], 'TAAC': [125], 'TAAG': [94], 'TATA': [67], 'TATT': [41], 'TATC': [78], 'TATG': [87], 'TACA': [132], 'TACT': [79], 'TACC': [139], 'TACG': [126], 'TAGA': [83], 'TAGT': [61], 'TAGC': [102], 'TAGG': [63], 'TTAA': [75], 'TTAT': [52], 'TTAC': [96], 'TTAG': [73], 'TTTA': [52], 'TTTT': [53], 'TTTC': [48], 'TTTG': [85], 'TTCA': [107], 'TTCT': [56], 'TTCC': [96], 'TTCG': [98], 'TTGA': [83], 'TTGT': [65], 'TTGC': [110], 'TTGG': [66], 'TCAA': [100], 'TCAT': [80], 'TCAC': [149], 'TCAG': [119], 'TCTA': [94], 'TCTT': [56], 'TCTC': [89], 'TCTG': [102], 'TCCA': [160], 'TCCT': [74], 'TCCC': [166], 'TCCG': [134], 'TCGA': [115], 'TCGT': [57], 'TCGC': [95], 'TCGG': [72], 'TGAA': [109], 'TGAT': [73], 'TGAC': [106], 'TGAG': [93], 'TGTA': [99], 'TGTT': [63], 'TGTC': [76], 'TGTG': [87], 'TGCA': [154], 'TGCT': [89], 'TGCC': [132], 'TGCG': [98], 'TGGA': [53], 'TGGT': [57], 'TGGC': [79], 'TGGG': [75], 'CAAA': [95], 'CAAT': [73], 'CAAC': [115], 'CAAG': [110], 'CATA': [78], 'CATT': [48], 'CATC': [95], 'CATG': [97], 'CACA': [159], 'CACT': [107], 'CACC': [198], 'CACG': [131], 'CAGA': [101], 'CAGT': [70], 'CAGC': [88], 'CAGG': [69], 'CTAA': [61], 'CTAT': [38], 'CTAC': [73], 'CTAG': [66], 'CTTA': [48], 'CTTT': [46], 'CTTC': [57], 'CTTG': [78], 'CTCA': [100], 'CTCT': [54], 'CTCC': [110], 'CTCG': [71], 'CTGA': [96], 'CTGT': [51], 'CTGC': [87], 'CTGG': [61], 'CCAA': [140], 'CCAT': [101], 'CCAC': [200], 'CCAG': [120], 'CCTA': [73], 'CCTT': [67], 'CCTC': [103], 'CCTG': [115], 'CCCA': [133], 'CCCT': [99], 'CCCC': [190], 'CCCG': [148], 'CCGA': [91], 'CCGT': [44], 'CCGC': [130], 'CCGG': [66], 'CGAA': [87], 'CGAT': [66], 'CGAC': [110], 'CGAG': [99], 'CGTA': [53], 'CGTT': [45], 'CGTC': [67], 'CGTG': [74], 'CGCA': [116], 'CGCT': [75], 'CGCC': [133], 'CGCG': [129], 'CGGA': [66], 'CGGT': [44], 'CGGC': [85], 'CGGG': [64], 'GAAA': [89], 'GAAT': [53], 'GAAC': [93], 'GAAG': [84], 'GATA': [53], 'GATT': [42], 'GATC': [67], 'GATG': [67], 'GACA': [110], 'GACT': [60], 'GACC': [127], 'GACG': [82], 'GAGA': [78], 'GAGT': [54], 'GAGC': [89], 'GAGG': [75], 'GTAA': [59], 'GTAT': [43], 'GTAC': [68], 'GTAG': [51], 'GTTA': [60], 'GTTT': [28], 'GTTC': [51], 'GTTG': [53], 'GTCA': [64], 'GTCT': [35], 'GTCC': [90], 'GTCG': [56], 'GTGA': [75], 'GTGT': [49], 'GTGC': [67], 'GTGG': [72], 'GCAA': [116], 'GCAT': [74], 'GCAC': [179], 'GCAG': [109], 'GCTA': [90], 'GCTT': [57], 'GCTC': [66], 'GCTG': [88], 'GCCA': [125], 'GCCT': [72], 'GCCC': [150], 'GCCG': [100], 'GCGA': [95], 'GCGT': [49], 'GCGC': [73], 'GCGG': [66], 'GGAA': [71], 'GGAT': [56], 'GGAC': [91], 'GGAG': [63], 'GGTA': [60], 'GGTT': [36], 'GGTC': [56], 'GGTG': [53], 'GGCA': [83], 'GGCT': [46], 'GGCC': [95], 'GGCG': [83], 'GGGA': [61], 'GGGT': [34], 'GGGC': [74], 'GGGG': [59]}}\n",
      "writing compressed CSV output\n",
      "summarizing raw read counts\n",
      "grouping counts by indicated PAM bases\n",
      "PAM library oLS-1874 max:min ratio: 7.1429\n",
      "PAM library oLS-1874 90:10 ratio: 2.5882\n",
      "PAM library oLS-1874 skewness: 0.969\n",
      "Library QC complete\n"
     ]
    }
   ],
   "source": [
    "import os\n",
    "import sys\n",
    "sys.path.append('../code')\n",
    "%load_ext autoreload\n",
    "%autoreload 2\n",
    "import PAMDA\n",
    "\n",
    "PAMDA.library_QC(RUN_NAME, \n",
    "                CONTROL_FASTQ_DIR,\n",
    "                CONTROL_FASTQ,\n",
    "                'ctrl',\n",
    "                PAM_ORIENTATION,\n",
    "                PAM_LENGTH,\n",
    "                PAM_START,\n",
    "                MAX_PAM_LENGTH, \n",
    "                SPACERS,\n",
    "                P5_TIMEPOINT_BARCODE_START,\n",
    "                P7_TIMEPOINT_BARCODE_START)"
   ]
  },
  {
   "cell_type": "code",
   "execution_count": 8,
   "id": "b378007d",
   "metadata": {},
   "outputs": [
    {
     "name": "stdout",
     "output_type": "stream",
     "text": [
      "BEGIN: generate counts from fastqs\n",
      "{'GTCAGT': 0}\n"
     ]
    },
    {
     "name": "stderr",
     "output_type": "stream",
     "text": [
      "/home/alex/eth/spcas9/pamda/tests/../code/PAMDA.py:70: UserWarning: SM-1_S73 not found in SAMPLE_FASTQ. This fastq will be ignored.\n",
      "  warnings.warn('%s not found in SAMPLE_FASTQ. This fastq will be ignored.' % fastq_name)\n"
     ]
    },
    {
     "name": "stdout",
     "output_type": "stream",
     "text": [
      "Ignoreing SM-1_S73, sample unknown\n"
     ]
    },
    {
     "data": {
      "application/vnd.jupyter.widget-view+json": {
       "model_id": "281d992290894eefaf484c00d727afa7",
       "version_major": 2,
       "version_minor": 0
      },
      "text/plain": [
       "  0%|          | 0/1 [00:00<?, ?it/s]"
      ]
     },
     "metadata": {},
     "output_type": "display_data"
    },
    {
     "name": "stdout",
     "output_type": "stream",
     "text": [
      "None None\n",
      "writing compressed CSV output\n"
     ]
    },
    {
     "ename": "TypeError",
     "evalue": "'NoneType' object is not iterable",
     "output_type": "error",
     "traceback": [
      "\u001b[0;31m---------------------------------------------------------------------------\u001b[0m",
      "\u001b[0;31mTypeError\u001b[0m                                 Traceback (most recent call last)",
      "Cell \u001b[0;32mIn[8], line 21\u001b[0m\n\u001b[1;32m     18\u001b[0m CSV_INPUT_RATES \u001b[39m=\u001b[39m \u001b[39mNone\u001b[39;00m\n\u001b[1;32m     20\u001b[0m raw_count_csv \u001b[39m=\u001b[39m \u001b[39mf\u001b[39m\u001b[39m'\u001b[39m\u001b[39moutput/benchmark1/PAMDA_1_raw_counts.csv\u001b[39m\u001b[39m'\u001b[39m\n\u001b[0;32m---> 21\u001b[0m PAMDA\u001b[39m.\u001b[39;49mPAMDA_complete(\u001b[39m'\u001b[39;49m\u001b[39m20231208\u001b[39;49m\u001b[39m'\u001b[39;49m,\n\u001b[1;32m     22\u001b[0m              TIMEPOINT_CSV,\n\u001b[1;32m     23\u001b[0m              CONTROL_FASTQ_DIR,\n\u001b[1;32m     24\u001b[0m              [CONTROL_FASTQ],\n\u001b[1;32m     25\u001b[0m              PAM_ORIENTATION,\n\u001b[1;32m     26\u001b[0m              PAM_LENGTH,\n\u001b[1;32m     27\u001b[0m              PAM_START,\n\u001b[1;32m     28\u001b[0m              raw_count_csv, \u001b[39m# randomized PAM library control\u001b[39;49;00m\n\u001b[1;32m     29\u001b[0m              \u001b[39m'\u001b[39;49m\u001b[39mctrl_merged\u001b[39;49m\u001b[39m'\u001b[39;49m, \u001b[39m# control sample\u001b[39;49;00m\n\u001b[1;32m     30\u001b[0m              TIMEPOINTS \u001b[39m=\u001b[39;49m [\u001b[39m0\u001b[39;49m],\n\u001b[1;32m     31\u001b[0m              MAX_PAM_LENGTH \u001b[39m=\u001b[39;49m MAX_PAM_LENGTH,\n\u001b[1;32m     32\u001b[0m              SPACERS \u001b[39m=\u001b[39;49m SPACERS,\n\u001b[1;32m     33\u001b[0m              P5_TIMEPOINT_BARCODE_START \u001b[39m=\u001b[39;49m P5_TIMEPOINT_BARCODE_START,\n\u001b[1;32m     34\u001b[0m              P7_TIMEPOINT_BARCODE_START \u001b[39m=\u001b[39;49m P7_TIMEPOINT_BARCODE_START,\n\u001b[1;32m     35\u001b[0m              USE_TIMEPOINTS \u001b[39m=\u001b[39;49m USE_TIMEPOINTS,\n\u001b[1;32m     36\u001b[0m              TOP_N_NORMALIZE \u001b[39m=\u001b[39;49m TOP_N_NORMALIZE,\n\u001b[1;32m     37\u001b[0m              INIT_RATE_EST \u001b[39m=\u001b[39;49m INIT_RATE_EST,\n\u001b[1;32m     38\u001b[0m              READ_SUM_MIN \u001b[39m=\u001b[39;49m READ_SUM_MIN,\n\u001b[1;32m     39\u001b[0m              TPS_SUM_MIN \u001b[39m=\u001b[39;49m TPS_SUM_MIN,\n\u001b[1;32m     40\u001b[0m              PAM1_NT_RANK \u001b[39m=\u001b[39;49m PAM1_NT_RANK,\n\u001b[1;32m     41\u001b[0m              PAM2_NT_RANK \u001b[39m=\u001b[39;49m PAM2_NT_RANK,\n\u001b[1;32m     42\u001b[0m              PAM1_INDEX_RANK \u001b[39m=\u001b[39;49m PAM1_INDEX_RANK,\n\u001b[1;32m     43\u001b[0m              PAM2_INDEX_RANK \u001b[39m=\u001b[39;49m PAM2_INDEX_RANK,\n\u001b[1;32m     44\u001b[0m              AVERAGE_SPACER \u001b[39m=\u001b[39;49m AVERAGE_SPACER,\n\u001b[1;32m     45\u001b[0m              HEATMAP_FIXED_MIN \u001b[39m=\u001b[39;49m HEATMAP_FIXED_MIN,\n\u001b[1;32m     46\u001b[0m              HEATMAP_FIXED_MAX \u001b[39m=\u001b[39;49m HEATMAP_FIXED_MAX,\n\u001b[1;32m     47\u001b[0m              LOG_SCALE_HEATMAP \u001b[39m=\u001b[39;49m LOG_SCALE_HEATMAP)\n",
      "File \u001b[0;32m~/eth/spcas9/pamda/tests/../code/PAMDA.py:197\u001b[0m, in \u001b[0;36mPAMDA_complete\u001b[0;34m(RUN_NAME, TIMEPOINT_CSV, FASTQ_DIR, SAMPLE_FASTQ, PAM_ORIENTATION, PAM_LENGTH, PAM_START, CONTROL_RAW_COUNT_CSV, CONTROL_SAMPLE, CONTROL_SAMPLE_SAMPLE_FASTQ, TIMEPOINTS, MAX_PAM_LENGTH, SPACERS, P5_TIMEPOINT_BARCODE_START, P7_TIMEPOINT_BARCODE_START, USE_TIMEPOINTS, TOP_N_NORMALIZE, INIT_RATE_EST, READ_SUM_MIN, TPS_SUM_MIN, PAM1_NT_RANK, PAM2_NT_RANK, PAM1_INDEX_RANK, PAM2_INDEX_RANK, AVERAGE_SPACER, HEATMAP_FIXED_MIN, HEATMAP_FIXED_MAX, LOG_SCALE_HEATMAP)\u001b[0m\n\u001b[1;32m    194\u001b[0m \u001b[39m# run the complete pipeline\u001b[39;00m\n\u001b[1;32m    196\u001b[0m \u001b[39mprint\u001b[39m(\u001b[39m'\u001b[39m\u001b[39mBEGIN: generate counts from fastqs\u001b[39m\u001b[39m'\u001b[39m)\n\u001b[0;32m--> 197\u001b[0m fastq2count(RUN_NAME,\n\u001b[1;32m    198\u001b[0m             TIMEPOINT_CSV,\n\u001b[1;32m    199\u001b[0m             FASTQ_DIR,\n\u001b[1;32m    200\u001b[0m             SAMPLE_FASTQ,\n\u001b[1;32m    201\u001b[0m             PAM_ORIENTATION,\n\u001b[1;32m    202\u001b[0m             TIMEPOINTS,\n\u001b[1;32m    203\u001b[0m             MAX_PAM_LENGTH,\n\u001b[1;32m    204\u001b[0m             SPACERS,\n\u001b[1;32m    205\u001b[0m             P5_TIMEPOINT_BARCODE_START,\n\u001b[1;32m    206\u001b[0m             P7_TIMEPOINT_BARCODE_START)\n\u001b[1;32m    207\u001b[0m \u001b[39mprint\u001b[39m(\u001b[39m'\u001b[39m\u001b[39mFINISHED: generate counts from fastqs \u001b[39m\u001b[39m\\n\u001b[39;00m\u001b[39m'\u001b[39m)\n\u001b[1;32m    209\u001b[0m \u001b[39mprint\u001b[39m(\u001b[39m'\u001b[39m\u001b[39mBEGIN: convert raw counts to normalized counts\u001b[39m\u001b[39m'\u001b[39m)\n",
      "File \u001b[0;32m~/eth/spcas9/pamda/tests/../code/PAMDA.py:435\u001b[0m, in \u001b[0;36mfastq2count\u001b[0;34m(run_name, timepoint_csv, fastq_dir, sample_fastq, pam_orientation, timepoints, max_pam_len, spacers, P5_timepoint_BC_start, P7_timepoint_BC_start)\u001b[0m\n\u001b[1;32m    431\u001b[0m f_out\u001b[39m.\u001b[39mwrite((\u001b[39m'\u001b[39m\u001b[39m,\u001b[39m\u001b[39m'\u001b[39m\u001b[39m.\u001b[39mjoin(\u001b[39mmap\u001b[39m(\u001b[39mstr\u001b[39m, [\u001b[39m'\u001b[39m\u001b[39mSample\u001b[39m\u001b[39m'\u001b[39m, \u001b[39m'\u001b[39m\u001b[39mSpacer\u001b[39m\u001b[39m'\u001b[39m, \u001b[39m'\u001b[39m\u001b[39mPAM\u001b[39m\u001b[39m'\u001b[39m] \u001b[39m+\u001b[39m\n\u001b[1;32m    432\u001b[0m                           [\u001b[39m'\u001b[39m\u001b[39mRaw_Counts_\u001b[39m\u001b[39m'\u001b[39m \u001b[39m+\u001b[39m \u001b[39mstr\u001b[39m(x)\n\u001b[1;32m    433\u001b[0m                            \u001b[39mfor\u001b[39;00m x \u001b[39min\u001b[39;00m \u001b[39mrange\u001b[39m(\u001b[39m1\u001b[39m, \u001b[39mlen\u001b[39m(timepoints))])) \u001b[39m+\u001b[39m \u001b[39m'\u001b[39m\u001b[39m\\n\u001b[39;00m\u001b[39m'\u001b[39m))\n\u001b[1;32m    434\u001b[0m \u001b[39mfor\u001b[39;00m fastq \u001b[39min\u001b[39;00m store_all_data:\n\u001b[0;32m--> 435\u001b[0m     \u001b[39mfor\u001b[39;00m spacer \u001b[39min\u001b[39;00m store_all_data[fastq]:\n\u001b[1;32m    436\u001b[0m         \u001b[39mfor\u001b[39;00m pam \u001b[39min\u001b[39;00m store_all_data[fastq][spacer]:\n\u001b[1;32m    437\u001b[0m             total_info \u001b[39m=\u001b[39m [fastq, spacer, pam] \u001b[39m+\u001b[39m store_all_data[fastq][spacer][pam]\n",
      "\u001b[0;31mTypeError\u001b[0m: 'NoneType' object is not iterable"
     ]
    }
   ],
   "source": [
    "TIMEPOINT_CSV = 'timepoint_csv/timepoints.csv'\n",
    "\n",
    "USE_TIMEPOINTS = None\n",
    "TOP_N_NORMALIZE = 5\n",
    "INIT_RATE_EST = [0.0001, 0.001, 0.01]\n",
    "READ_SUM_MIN = 4\n",
    "TPS_SUM_MIN = 1\n",
    "PAM1_NT_RANK = {1:'A',2:'C',3:'G',4:'T'}\n",
    "PAM2_NT_RANK = {1:'A',2:'C',3:'G',4:'T'}\n",
    "PAM1_INDEX_RANK = None\n",
    "PAM2_INDEX_RANK = None\n",
    "AVERAGE_SPACER = False\n",
    "HEATMAP_FIXED_MIN = -3\n",
    "HEATMAP_FIXED_MAX = -1\n",
    "LOG_SCALE_HEATMAP = True\n",
    "CSV_INPUT_RAW_COUNT = None\n",
    "CSV_INPUT_NORM_COUNT = None\n",
    "CSV_INPUT_RATES = None\n",
    "\n",
    "raw_count_csv = f'output/benchmark1/PAMDA_1_raw_counts.csv'\n",
    "PAMDA.PAMDA_complete('benchmark1',\n",
    "             TIMEPOINT_CSV,\n",
    "             CONTROL_FASTQ_DIR,\n",
    "             {CONTROL_FASTQ: 'test'},\n",
    "             PAM_ORIENTATION,\n",
    "             PAM_LENGTH,\n",
    "             PAM_START,\n",
    "             raw_count_csv, # randomized PAM library control\n",
    "             'ctrl_merged', # control sample\n",
    "             TIMEPOINTS = [0],\n",
    "             MAX_PAM_LENGTH = MAX_PAM_LENGTH,\n",
    "             SPACERS = SPACERS,\n",
    "             P5_TIMEPOINT_BARCODE_START = P5_TIMEPOINT_BARCODE_START,\n",
    "             P7_TIMEPOINT_BARCODE_START = P7_TIMEPOINT_BARCODE_START,\n",
    "             USE_TIMEPOINTS = USE_TIMEPOINTS,\n",
    "             TOP_N_NORMALIZE = TOP_N_NORMALIZE,\n",
    "             INIT_RATE_EST = INIT_RATE_EST,\n",
    "             READ_SUM_MIN = READ_SUM_MIN,\n",
    "             TPS_SUM_MIN = TPS_SUM_MIN,\n",
    "             PAM1_NT_RANK = PAM1_NT_RANK,\n",
    "             PAM2_NT_RANK = PAM2_NT_RANK,\n",
    "             PAM1_INDEX_RANK = PAM1_INDEX_RANK,\n",
    "             PAM2_INDEX_RANK = PAM2_INDEX_RANK,\n",
    "             AVERAGE_SPACER = AVERAGE_SPACER,\n",
    "             HEATMAP_FIXED_MIN = HEATMAP_FIXED_MIN,\n",
    "             HEATMAP_FIXED_MAX = HEATMAP_FIXED_MAX,\n",
    "             LOG_SCALE_HEATMAP = LOG_SCALE_HEATMAP)"
   ]
  },
  {
   "cell_type": "code",
   "execution_count": 74,
   "id": "6b9ef9d9-d0de-4467-90f1-7de8944a7474",
   "metadata": {},
   "outputs": [
    {
     "data": {
      "text/plain": [
       "-1"
      ]
     },
     "execution_count": 74,
     "metadata": {},
     "output_type": "execute_result"
    }
   ],
   "source": [
    "'GTCAGTAGGTACCCTCGTGACCTGCGCAGAGCATTCGTTTTGCTGAGGAGACTCCTCCGGTACCGGATCCAGTCGACTGAATTGGTTCCTTTAAAGCCTGCTTTTTTGTACAGCTAGCGACGACTGA'.find('TCAGTCGTCGCT')"
   ]
  },
  {
   "cell_type": "code",
   "execution_count": 5,
   "id": "78e1de9b-16cd-4da7-b41b-bb7b11e29949",
   "metadata": {},
   "outputs": [
    {
     "data": {
      "text/plain": [
       "False"
      ]
     },
     "execution_count": 5,
     "metadata": {},
     "output_type": "execute_result"
    }
   ],
   "source": [
    "[] is []"
   ]
  },
  {
   "cell_type": "code",
   "execution_count": null,
   "id": "e96ee699",
   "metadata": {},
   "outputs": [],
   "source": []
  }
 ],
 "metadata": {
  "kernelspec": {
   "display_name": "Python 3 (ipykernel)",
   "language": "python",
   "name": "python3"
  },
  "language_info": {
   "codemirror_mode": {
    "name": "ipython",
    "version": 3
   },
   "file_extension": ".py",
   "mimetype": "text/x-python",
   "name": "python",
   "nbconvert_exporter": "python",
   "pygments_lexer": "ipython3",
   "version": "3.10.12"
  }
 },
 "nbformat": 4,
 "nbformat_minor": 5
}
