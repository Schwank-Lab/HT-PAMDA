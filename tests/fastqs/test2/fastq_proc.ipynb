{
 "cells": [
  {
   "cell_type": "code",
   "execution_count": 3,
   "id": "e2b8937a-92f8-4be0-9804-9a0dcb314cb7",
   "metadata": {},
   "outputs": [
    {
     "name": "stdout",
     "output_type": "stream",
     "text": [
      "./ctrl_S68_R1_001.fastq.gz: 531679\n",
      "./spcas9_S76_R2_001.fastq.gz: 715150\n",
      "./ctrl_S68_R2_001.fastq.gz: 531679\n",
      "./spcas9_S76_R1_001.fastq.gz: 715150\n"
     ]
    }
   ],
   "source": [
    "import gzip\n",
    "from Bio import SeqIO\n",
    "import glob\n",
    "\n",
    "# Path to the folder containing the fastq.gz files\n",
    "folder_path = 'fastq_large'\n",
    "\n",
    "# Iterate through each .fastq.gz file in the folder\n",
    "for file_path in glob.glob(f\"{folder_path}/*.fastq.gz\"):\n",
    "    with gzip.open(file_path, 'rt') as f:\n",
    "        count = sum(1 for _ in SeqIO.parse(f, 'fastq'))\n",
    "    print(f\"{file_path}: {count}\")\n",
    "\n"
   ]
  },
  {
   "cell_type": "code",
   "execution_count": 4,
   "id": "7c8276f4-a6e0-4cff-80ad-832ebabff449",
   "metadata": {},
   "outputs": [
    {
     "name": "stdout",
     "output_type": "stream",
     "text": [
      "Subsampled reads written to ./ctrl_S68_R1_001.fastq\n",
      "Subsampled reads written to ./spcas9_S76_R2_001.fastq\n",
      "Subsampled reads written to ./ctrl_S68_R2_001.fastq\n",
      "Subsampled reads written to ./spcas9_S76_R1_001.fastq\n"
     ]
    }
   ],
   "source": [
    "import os\n",
    "import gzip\n",
    "import random\n",
    "from Bio import SeqIO\n",
    "import glob\n",
    "\n",
    "input_folder_path = 'fastq_large'\n",
    "output_folder_path = '.'\n",
    "num_reads_to_sample = 10000\n",
    "\n",
    "# Ensure output folder exists\n",
    "os.makedirs(output_folder_path, exist_ok=True)\n",
    "\n",
    "for file_path in glob.glob(f\"{input_folder_path}/*.fastq.gz\"):\n",
    "    with gzip.open(file_path, 'rt') as f:\n",
    "        reads = list(SeqIO.parse(f, 'fastq'))\n",
    "\n",
    "    sampled_reads = random.sample(reads, min(num_reads_to_sample, len(reads)))\n",
    "\n",
    "    # Construct the output file path\n",
    "    output_file = os.path.join(output_folder_path, os.path.basename(file_path).replace('.fastq.gz', '.fastq'))\n",
    "    with open(output_file, 'w') as out_f:\n",
    "        SeqIO.write(sampled_reads, out_f, 'fastq')\n",
    "\n",
    "    print(f\"Subsampled reads written to {output_file}\")\n"
   ]
  },
  {
   "cell_type": "code",
   "execution_count": null,
   "id": "bfd0d7b0-fe37-4c13-974a-d30d8905c298",
   "metadata": {},
   "outputs": [],
   "source": []
  }
 ],
 "metadata": {
  "kernelspec": {
   "display_name": "Python 3 (ipykernel)",
   "language": "python",
   "name": "python3"
  },
  "language_info": {
   "codemirror_mode": {
    "name": "ipython",
    "version": 3
   },
   "file_extension": ".py",
   "mimetype": "text/x-python",
   "name": "python",
   "nbconvert_exporter": "python",
   "pygments_lexer": "ipython3",
   "version": "3.10.12"
  }
 },
 "nbformat": 4,
 "nbformat_minor": 5
}
